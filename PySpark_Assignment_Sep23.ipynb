{
  "cells": [
    {
      "cell_type": "markdown",
      "metadata": {
        "id": "view-in-github",
        "colab_type": "text"
      },
      "source": [
        "<a href=\"https://colab.research.google.com/github/Resmi-p/Analysing-the-popularity-of-films-and-TV-shows-using-pyspark-and-spark-sql/blob/main/PySpark_Assignment_Sep23.ipynb\" target=\"_parent\"><img src=\"https://colab.research.google.com/assets/colab-badge.svg\" alt=\"Open In Colab\"/></a>"
      ]
    },
    {
      "cell_type": "code",
      "execution_count": null,
      "metadata": {
        "id": "5lb-Z7ZM8O3s"
      },
      "outputs": [],
      "source": [
        "# CodeGrade Tag Init1\n",
        "\n",
        "# Apache Spark uses Java, so first we must install that\n",
        "!apt-get install openjdk-8-jdk-headless -qq > /dev/null"
      ]
    },
    {
      "cell_type": "code",
      "execution_count": null,
      "metadata": {
        "id": "ixa72o938SKP",
        "colab": {
          "base_uri": "https://localhost:8080/"
        },
        "outputId": "5371f595-a9b4-4605-eaf8-397b79ea0653"
      },
      "outputs": [
        {
          "output_type": "stream",
          "name": "stdout",
          "text": [
            "Mounted at /content/drive\n"
          ]
        }
      ],
      "source": [
        "# CodeGrade Tag Init2\n",
        "# Mount Google Drive and unpack Spark\n",
        "from google.colab import drive\n",
        "drive.mount('/content/drive')\n",
        "!tar xzf /content/drive/MyDrive/spark-3.3.0-bin-hadoop3.tgz"
      ]
    },
    {
      "cell_type": "code",
      "execution_count": null,
      "metadata": {
        "id": "yWT7_XiQ8V6u"
      },
      "outputs": [],
      "source": [
        "# CodeGrade Tag Init3\n",
        "# Set up environment variables\n",
        "import os\n",
        "os.environ[\"JAVA_HOME\"] = \"/usr/lib/jvm/java-8-openjdk-amd64\"\n",
        "os.environ[\"SPARK_HOME\"] = \"/content/spark-3.3.0-bin-hadoop3\""
      ]
    },
    {
      "cell_type": "code",
      "execution_count": null,
      "metadata": {
        "id": "UPSvq-aj8Z_k"
      },
      "outputs": [],
      "source": [
        "# CodeGrade Tag Init4\n",
        "# Install findspark, which helps python locate the pyspark module files\n",
        "!pip install -q findspark\n",
        "import findspark\n",
        "findspark.init()"
      ]
    },
    {
      "cell_type": "code",
      "execution_count": null,
      "metadata": {
        "id": "kXT8Q_IO8cVe"
      },
      "outputs": [],
      "source": [
        "# Finally, we initialse a \"SparkSession\", which handles the computations\n",
        "from pyspark.sql import SparkSession\n",
        "spark = SparkSession.builder\\\n",
        "        .master(\"local\")\\\n",
        "        .appName(\"Colab\")\\\n",
        "        .config('spark.ui.port', '4050')\\\n",
        "        .getOrCreate()"
      ]
    },
    {
      "cell_type": "code",
      "execution_count": null,
      "metadata": {
        "id": "nY0UxWbdDcag"
      },
      "outputs": [],
      "source": [
        "# Load the all_weeks_countries.csv into your Colab Notebook as a DataFrame.\n",
        "netflixcsvpath = '/content/drive/MyDrive/ADS2/Assignment /all-weeks-countries.csv'\n",
        "\n",
        "# Data is loaded with header: True and an inferred schema\n",
        "netflixDF = (spark\n",
        "           .read\n",
        "           .option('header', 'True')\n",
        "           .option('inferSchema', 'True')\n",
        "           .csv(netflixcsvpath)\n",
        "          )"
      ]
    },
    {
      "cell_type": "code",
      "source": [
        "from google.colab import drive\n",
        "drive.mount('/content/drive')"
      ],
      "metadata": {
        "id": "EOqCVt_SoaG6",
        "colab": {
          "base_uri": "https://localhost:8080/"
        },
        "outputId": "3c2de598-3826-4dce-c600-76230b888a0f"
      },
      "execution_count": null,
      "outputs": [
        {
          "output_type": "stream",
          "name": "stdout",
          "text": [
            "Drive already mounted at /content/drive; to attempt to forcibly remount, call drive.mount(\"/content/drive\", force_remount=True).\n"
          ]
        }
      ]
    },
    {
      "cell_type": "code",
      "execution_count": null,
      "metadata": {
        "id": "adZdlbyGL7Mj"
      },
      "outputs": [],
      "source": [
        "# pyspark.sql.functions countains all the transformations and actions you will\n",
        "# need\n",
        "from pyspark.sql import functions as F"
      ]
    },
    {
      "cell_type": "markdown",
      "metadata": {
        "id": "yfW6RnY_GZpE"
      },
      "source": [
        "# Exercise 1 - Data Preparation\n",
        "\n",
        "\n",
        "1.   Create two separate DataFrames for Films and TV.\n",
        "2.   For the Films data, drop the column containing the season names.\n",
        "3.   For the TV data, replace any null values in the season name column with the show name."
      ]
    },
    {
      "cell_type": "code",
      "execution_count": null,
      "metadata": {
        "id": "I7PS8iZgqwjt",
        "colab": {
          "base_uri": "https://localhost:8080/"
        },
        "outputId": "3091ad6f-4d46-4998-fb9a-ed5f72c6b9ba"
      },
      "outputs": [
        {
          "output_type": "stream",
          "name": "stdout",
          "text": [
            "+------------+------------+-------------------+--------+-----------+--------------------+--------------------+--------------------------+\n",
            "|country_name|country_iso2|               week|category|weekly_rank|          show_title|        season_title|cumulative_weeks_in_top_10|\n",
            "+------------+------------+-------------------+--------+-----------+--------------------+--------------------+--------------------------+\n",
            "|   Argentina|          AR|2022-08-21 00:00:00|   Films|          1|      Look Both Ways|                null|                         1|\n",
            "|   Argentina|          AR|2022-08-21 00:00:00|   Films|          2|           Day Shift|                null|                         2|\n",
            "|   Argentina|          AR|2022-08-21 00:00:00|   Films|          3|Bank Robbers: The...|                null|                         2|\n",
            "|   Argentina|          AR|2022-08-21 00:00:00|   Films|          4|   The Next 365 Days|                null|                         1|\n",
            "|   Argentina|          AR|2022-08-21 00:00:00|   Films|          5|The Angry Birds M...|                null|                         1|\n",
            "|   Argentina|          AR|2022-08-21 00:00:00|   Films|          6|       Purple Hearts|                null|                         4|\n",
            "|   Argentina|          AR|2022-08-21 00:00:00|   Films|          7|      River Runs Red|                null|                         1|\n",
            "|   Argentina|          AR|2022-08-21 00:00:00|   Films|          8|                1917|                null|                         2|\n",
            "|   Argentina|          AR|2022-08-21 00:00:00|   Films|          9|  Code Name: Emperor|                null|                         2|\n",
            "|   Argentina|          AR|2022-08-21 00:00:00|   Films|         10|           Royalteen|                null|                         1|\n",
            "|   Argentina|          AR|2022-08-21 00:00:00|      TV|          1| Pasión de Gavilanes|Pasión de Gavilan...|                         5|\n",
            "|   Argentina|          AR|2022-08-21 00:00:00|      TV|          2|        Another Self|Another Self: Sea...|                         4|\n",
            "|   Argentina|          AR|2022-08-21 00:00:00|      TV|          3| Pasión de Gavilanes|Pasión de Gavilan...|                        58|\n",
            "|   Argentina|          AR|2022-08-21 00:00:00|      TV|          4|            Manifest|  Manifest: Season 1|                         6|\n",
            "|   Argentina|          AR|2022-08-21 00:00:00|      TV|          5|         The Sandman|The Sandman: Seas...|                         3|\n",
            "|   Argentina|          AR|2022-08-21 00:00:00|      TV|          6|Extraordinary Att...|Extraordinary Att...|                         2|\n",
            "|   Argentina|          AR|2022-08-21 00:00:00|      TV|          7|           High Heat| High Heat: Season 1|                         1|\n",
            "|   Argentina|          AR|2022-08-21 00:00:00|      TV|          8|            Manifest|  Manifest: Season 2|                         5|\n",
            "|   Argentina|          AR|2022-08-21 00:00:00|      TV|          9|            Manifest|  Manifest: Season 3|                         4|\n",
            "|   Argentina|          AR|2022-08-21 00:00:00|      TV|         10|   Never Have I Ever|Never Have I Ever...|                         2|\n",
            "+------------+------------+-------------------+--------+-----------+--------------------+--------------------+--------------------------+\n",
            "only showing top 20 rows\n",
            "\n",
            "root\n",
            " |-- country_name: string (nullable = true)\n",
            " |-- country_iso2: string (nullable = true)\n",
            " |-- week: timestamp (nullable = true)\n",
            " |-- category: string (nullable = true)\n",
            " |-- weekly_rank: integer (nullable = true)\n",
            " |-- show_title: string (nullable = true)\n",
            " |-- season_title: string (nullable = true)\n",
            " |-- cumulative_weeks_in_top_10: integer (nullable = true)\n",
            "\n"
          ]
        }
      ],
      "source": [
        "# CodeGrade Tag Ex1a\n",
        "\n",
        "### Display the table and its schema\n",
        "netflixDF.show()\n",
        "netflixDF.printSchema()"
      ]
    },
    {
      "cell_type": "code",
      "execution_count": null,
      "metadata": {
        "id": "qfke8sGRN5ns"
      },
      "outputs": [],
      "source": [
        "# CodeGrade Tag Ex1b\n",
        "\n",
        "### Seperate the data into two DataFrames for Films and TV\n",
        "### Call the dataframes tvDF and filmsDF\n",
        "filmsDF = netflixDF.filter(\"category == 'Films'\")\n",
        "tvDF = netflixDF.filter(\"category == 'TV'\")"
      ]
    },
    {
      "cell_type": "code",
      "execution_count": null,
      "metadata": {
        "id": "X7JsDYkQN7Zw",
        "colab": {
          "base_uri": "https://localhost:8080/"
        },
        "outputId": "71cd7940-5bcb-4da6-bc5e-31365b25ec0c"
      },
      "outputs": [
        {
          "output_type": "stream",
          "name": "stdout",
          "text": [
            "+------------+------------+-------------------+--------+-----------+--------------------+--------------------------+\n",
            "|country_name|country_iso2|               week|category|weekly_rank|          show_title|cumulative_weeks_in_top_10|\n",
            "+------------+------------+-------------------+--------+-----------+--------------------+--------------------------+\n",
            "|   Argentina|          AR|2022-08-21 00:00:00|   Films|          1|      Look Both Ways|                         1|\n",
            "|   Argentina|          AR|2022-08-21 00:00:00|   Films|          2|           Day Shift|                         2|\n",
            "|   Argentina|          AR|2022-08-21 00:00:00|   Films|          3|Bank Robbers: The...|                         2|\n",
            "|   Argentina|          AR|2022-08-21 00:00:00|   Films|          4|   The Next 365 Days|                         1|\n",
            "|   Argentina|          AR|2022-08-21 00:00:00|   Films|          5|The Angry Birds M...|                         1|\n",
            "|   Argentina|          AR|2022-08-21 00:00:00|   Films|          6|       Purple Hearts|                         4|\n",
            "|   Argentina|          AR|2022-08-21 00:00:00|   Films|          7|      River Runs Red|                         1|\n",
            "|   Argentina|          AR|2022-08-21 00:00:00|   Films|          8|                1917|                         2|\n",
            "|   Argentina|          AR|2022-08-21 00:00:00|   Films|          9|  Code Name: Emperor|                         2|\n",
            "|   Argentina|          AR|2022-08-21 00:00:00|   Films|         10|           Royalteen|                         1|\n",
            "|   Argentina|          AR|2022-08-14 00:00:00|   Films|          1|Bank Robbers: The...|                         1|\n",
            "|   Argentina|          AR|2022-08-14 00:00:00|   Films|          2|       Purple Hearts|                         3|\n",
            "|   Argentina|          AR|2022-08-14 00:00:00|   Films|          3|                1917|                         1|\n",
            "|   Argentina|          AR|2022-08-14 00:00:00|   Films|          4|           Day Shift|                         1|\n",
            "|   Argentina|          AR|2022-08-14 00:00:00|   Films|          5|  Code Name: Emperor|                         1|\n",
            "|   Argentina|          AR|2022-08-14 00:00:00|   Films|          6|              Carter|                         2|\n",
            "|   Argentina|          AR|2022-08-14 00:00:00|   Films|          7|          Recurrence|                         3|\n",
            "|   Argentina|          AR|2022-08-14 00:00:00|   Films|          8|      Wedding Season|                         2|\n",
            "|   Argentina|          AR|2022-08-14 00:00:00|   Films|          9|        Dreamkatcher|                         1|\n",
            "|   Argentina|          AR|2022-08-14 00:00:00|   Films|         10|        The Gray Man|                         4|\n",
            "+------------+------------+-------------------+--------+-----------+--------------------+--------------------------+\n",
            "only showing top 20 rows\n",
            "\n"
          ]
        }
      ],
      "source": [
        "# CodeGrade Tag Ex1c\n",
        "\n",
        "### Drop the 'season_title' column from the Films DataFrame, display the table\n",
        "filmsDF = filmsDF.drop('season_title')\n",
        "filmsDF.show()\n"
      ]
    },
    {
      "cell_type": "code",
      "execution_count": null,
      "metadata": {
        "id": "4M83pWB5N9Ar",
        "colab": {
          "base_uri": "https://localhost:8080/"
        },
        "outputId": "ee176ba3-aae3-40e5-e285-2cca7c134008"
      },
      "outputs": [
        {
          "output_type": "stream",
          "name": "stdout",
          "text": [
            "+------------+------------+-------------------+--------+-----------+--------------------+--------------------+--------------------------+\n",
            "|country_name|country_iso2|               week|category|weekly_rank|          show_title|        season_title|cumulative_weeks_in_top_10|\n",
            "+------------+------------+-------------------+--------+-----------+--------------------+--------------------+--------------------------+\n",
            "|   Argentina|          AR|2022-08-21 00:00:00|      TV|          1| Pasión de Gavilanes|Pasión de Gavilan...|                         5|\n",
            "|   Argentina|          AR|2022-08-21 00:00:00|      TV|          2|        Another Self|Another Self: Sea...|                         4|\n",
            "|   Argentina|          AR|2022-08-21 00:00:00|      TV|          3| Pasión de Gavilanes|Pasión de Gavilan...|                        58|\n",
            "|   Argentina|          AR|2022-08-21 00:00:00|      TV|          4|            Manifest|  Manifest: Season 1|                         6|\n",
            "|   Argentina|          AR|2022-08-21 00:00:00|      TV|          5|         The Sandman|The Sandman: Seas...|                         3|\n",
            "|   Argentina|          AR|2022-08-21 00:00:00|      TV|          6|Extraordinary Att...|Extraordinary Att...|                         2|\n",
            "|   Argentina|          AR|2022-08-21 00:00:00|      TV|          7|           High Heat| High Heat: Season 1|                         1|\n",
            "|   Argentina|          AR|2022-08-21 00:00:00|      TV|          8|            Manifest|  Manifest: Season 2|                         5|\n",
            "|   Argentina|          AR|2022-08-21 00:00:00|      TV|          9|            Manifest|  Manifest: Season 3|                         4|\n",
            "|   Argentina|          AR|2022-08-21 00:00:00|      TV|         10|   Never Have I Ever|Never Have I Ever...|                         2|\n",
            "|   Argentina|          AR|2022-08-14 00:00:00|      TV|          1| Pasión de Gavilanes|Pasión de Gavilan...|                         4|\n",
            "|   Argentina|          AR|2022-08-14 00:00:00|      TV|          2|        Another Self|Another Self: Sea...|                         3|\n",
            "|   Argentina|          AR|2022-08-14 00:00:00|      TV|          3|         The Sandman|The Sandman: Seas...|                         2|\n",
            "|   Argentina|          AR|2022-08-14 00:00:00|      TV|          4| Pasión de Gavilanes|Pasión de Gavilan...|                        57|\n",
            "|   Argentina|          AR|2022-08-14 00:00:00|      TV|          5|            Manifest|  Manifest: Season 1|                         5|\n",
            "|   Argentina|          AR|2022-08-14 00:00:00|      TV|          6|Extraordinary Att...|Extraordinary Att...|                         1|\n",
            "|   Argentina|          AR|2022-08-14 00:00:00|      TV|          7|                Alba|      Alba: Season 1|                         5|\n",
            "|   Argentina|          AR|2022-08-14 00:00:00|      TV|          8|            Manifest|  Manifest: Season 2|                         4|\n",
            "|   Argentina|          AR|2022-08-14 00:00:00|      TV|          9|            Manifest|  Manifest: Season 3|                         3|\n",
            "|   Argentina|          AR|2022-08-14 00:00:00|      TV|         10|   Never Have I Ever|Never Have I Ever...|                         1|\n",
            "+------------+------------+-------------------+--------+-----------+--------------------+--------------------+--------------------------+\n",
            "only showing top 20 rows\n",
            "\n"
          ]
        }
      ],
      "source": [
        "# CodeGrade Tag Ex1d\n",
        "\n",
        "### Use the F.isnull function to create a column showing where there are null\n",
        "### values in the 'season_title' column. Replace the null values with the\n",
        "### corresponding value from the 'show_title' column, then replace the\n",
        "### 'season_title' column in the tvDF DataFrame.\n",
        "season_title_isnull = F.when(F.isnull('season_title'), F.col('show_title')).otherwise(F.col('season_title'))\n",
        "tvDF = tvDF.withColumn('season_title', season_title_isnull)\n",
        "tvDF.show()"
      ]
    },
    {
      "cell_type": "markdown",
      "metadata": {
        "id": "rAHZm5_9IzTn"
      },
      "source": [
        "# Exercise 2\n",
        "\n",
        "Making use of the \"groupBy\" and \"where\" methods, find the number of weeks the show \"Stranger Things\" was in the Top 10 for the United Kingdom across all seasons. Store your result in a variable named \"STWeeks\"\n"
      ]
    },
    {
      "cell_type": "code",
      "execution_count": null,
      "metadata": {
        "id": "68QRfnJsvIdt",
        "colab": {
          "base_uri": "https://localhost:8080/"
        },
        "outputId": "a60081dd-3e9c-43f7-afdf-c07ff40a29f1"
      },
      "outputs": [
        {
          "output_type": "stream",
          "name": "stdout",
          "text": [
            "+--------------+------------+-------------------+--------+-----------+---------------+-----------------+--------------------------+\n",
            "|  country_name|country_iso2|               week|category|weekly_rank|     show_title|     season_title|cumulative_weeks_in_top_10|\n",
            "+--------------+------------+-------------------+--------+-----------+---------------+-----------------+--------------------------+\n",
            "|United Kingdom|          GB|2022-08-21 00:00:00|      TV|          3|Stranger Things|Stranger Things 4|                        13|\n",
            "|United Kingdom|          GB|2022-08-14 00:00:00|      TV|          3|Stranger Things|Stranger Things 4|                        12|\n",
            "|United Kingdom|          GB|2022-08-14 00:00:00|      TV|         10|Stranger Things|Stranger Things 3|                        12|\n",
            "|United Kingdom|          GB|2022-08-07 00:00:00|      TV|          2|Stranger Things|Stranger Things 4|                        11|\n",
            "|United Kingdom|          GB|2022-08-07 00:00:00|      TV|          9|Stranger Things|Stranger Things 3|                        11|\n",
            "|United Kingdom|          GB|2022-08-07 00:00:00|      TV|         10|Stranger Things|Stranger Things 2|                        11|\n",
            "|United Kingdom|          GB|2022-07-31 00:00:00|      TV|          2|Stranger Things|Stranger Things 4|                        10|\n",
            "|United Kingdom|          GB|2022-07-31 00:00:00|      TV|          5|Stranger Things|Stranger Things 3|                        10|\n",
            "|United Kingdom|          GB|2022-07-31 00:00:00|      TV|          6|Stranger Things|Stranger Things 2|                        10|\n",
            "|United Kingdom|          GB|2022-07-31 00:00:00|      TV|          8|Stranger Things|  Stranger Things|                        10|\n",
            "|United Kingdom|          GB|2022-07-24 00:00:00|      TV|          2|Stranger Things|Stranger Things 4|                         9|\n",
            "|United Kingdom|          GB|2022-07-24 00:00:00|      TV|          5|Stranger Things|Stranger Things 3|                         9|\n",
            "|United Kingdom|          GB|2022-07-24 00:00:00|      TV|          6|Stranger Things|Stranger Things 2|                         9|\n",
            "|United Kingdom|          GB|2022-07-24 00:00:00|      TV|          7|Stranger Things|  Stranger Things|                         9|\n",
            "|United Kingdom|          GB|2022-07-17 00:00:00|      TV|          1|Stranger Things|Stranger Things 4|                         8|\n",
            "|United Kingdom|          GB|2022-07-17 00:00:00|      TV|          3|Stranger Things|Stranger Things 2|                         8|\n",
            "|United Kingdom|          GB|2022-07-17 00:00:00|      TV|          4|Stranger Things|Stranger Things 3|                         8|\n",
            "|United Kingdom|          GB|2022-07-17 00:00:00|      TV|          5|Stranger Things|  Stranger Things|                         8|\n",
            "|United Kingdom|          GB|2022-07-10 00:00:00|      TV|          1|Stranger Things|Stranger Things 4|                         7|\n",
            "|United Kingdom|          GB|2022-07-10 00:00:00|      TV|          2|Stranger Things|  Stranger Things|                         7|\n",
            "+--------------+------------+-------------------+--------+-----------+---------------+-----------------+--------------------------+\n",
            "only showing top 20 rows\n",
            "\n",
            "+---------------+-----------+\n",
            "|     show_title|count(week)|\n",
            "+---------------+-----------+\n",
            "|Stranger Things|         13|\n",
            "+---------------+-----------+\n",
            "\n"
          ]
        }
      ],
      "source": [
        "# CodeGrade Tag Ex2\n",
        "### Use the \"where\" method to create a new dataframe containing the data for\n",
        "### the show Stranger Things in the Uniter Kingdom. Call this dataframe STDF.\n",
        "STDF = tvDF.where(\"show_title == 'Stranger Things' AND country_name == 'United Kingdom'\")\n",
        "STDF.show()\n",
        "\n",
        "### Using \"groupBy\" method and \"F.count_distinct\" function, find the total number of weeks\n",
        "### Stranger Things spent in the top 10 of the UK, across all seasons. Show the\n",
        "### result.\n",
        "STWeeks = STDF.groupBy('show_title').agg(F.count_distinct('week'))\n",
        "STWeeks.show()"
      ]
    },
    {
      "cell_type": "markdown",
      "metadata": {
        "id": "o1i0AYsUzfOl"
      },
      "source": [
        "# Exercise 3\n",
        "\n",
        "Produce a dataframe containing only the Top 25 TV seasons in the UK, based on the number of weeks they spent in the Top 10."
      ]
    },
    {
      "cell_type": "code",
      "execution_count": null,
      "metadata": {
        "id": "JvD5HHZpSOLM",
        "colab": {
          "base_uri": "https://localhost:8080/"
        },
        "outputId": "7dd60fb3-d8c1-48f1-88c5-3dd8e17a9e1c"
      },
      "outputs": [
        {
          "output_type": "stream",
          "name": "stdout",
          "text": [
            "+--------------------+---------+\n",
            "|        season_title|max_weeks|\n",
            "+--------------------+---------+\n",
            "|   Stranger Things 4|       13|\n",
            "|     Ozark: Season 4|       12|\n",
            "|   Stranger Things 3|       12|\n",
            "|   Stranger Things 2|       11|\n",
            "|Squid Game: Season 1|       10|\n",
            "|     Stranger Things|       10|\n",
            "|Better Call Saul:...|       10|\n",
            "|Bridgerton: Season 2|        9|\n",
            "|Maid: Limited Series|        9|\n",
            "|PAW Patrol: Season 6|        9|\n",
            "|Inventing Anna: L...|        8|\n",
            "| Money Heist: Part 5|        7|\n",
            "|  Sex/Life: Season 1|        7|\n",
            "|PIECES OF HER: Se...|        7|\n",
            "|Clickbait: Limite...|        6|\n",
            "|Sex Education: Se...|        6|\n",
            "|Virgin River: Sea...|        6|\n",
            "|Young Sheldon: : ...|        6|\n",
            "|Young Sheldon: : ...|        6|\n",
            "|The Lincoln Lawye...|        6|\n",
            "|       You: Season 3|        6|\n",
            "|PAW Patrol: Season 4|        6|\n",
            "|The Umbrella Acad...|        5|\n",
            "|Love Is Blind: Se...|        5|\n",
            "|The Witcher: Seas...|        5|\n",
            "+--------------------+---------+\n",
            "\n"
          ]
        }
      ],
      "source": [
        "# CodeGrade Tag Ex3\n",
        "### Produce a dataframe containing the top 25 seasons by number of weeks in the\n",
        "### top 10 of the United Kingdom, sorted by number of weeks. Store the dataframe\n",
        "### in a variable called Top25\n",
        "uk_tvDF = tvDF.where(\"country_name == 'United Kingdom'\")\n",
        "Top25 = uk_tvDF.groupBy('season_title')\\\n",
        "            .agg(F.max('cumulative_weeks_in_top_10').alias('max_weeks'))\\\n",
        "            .orderBy('max_weeks', ascending=False).limit(25).show(25)"
      ]
    },
    {
      "cell_type": "markdown",
      "metadata": {
        "id": "QSLCobP5Tpmp"
      },
      "source": [
        "# Exercise 4\n",
        "\n",
        "For the show \"Young Sheldon\", find the country where each season spent the most time in the Top 10."
      ]
    },
    {
      "cell_type": "code",
      "execution_count": null,
      "metadata": {
        "id": "ocBh6iMbkQ0t",
        "colab": {
          "base_uri": "https://localhost:8080/"
        },
        "outputId": "4f863d67-fa87-47dc-c068-6e4bd84af199"
      },
      "outputs": [
        {
          "output_type": "stream",
          "name": "stdout",
          "text": [
            "+-------------------------+---------------------------------+\n",
            "|season_title             |country                          |\n",
            "+-------------------------+---------------------------------+\n",
            "|Young Sheldon: : Season 1|[Canada, United Kingdom, Ireland]|\n",
            "|Young Sheldon: : Season 2|[United Kingdom]                 |\n",
            "|Young Sheldon: : Season 3|[United Kingdom]                 |\n",
            "|Young Sheldon: Season 4  |[New Zealand, Australia]         |\n",
            "+-------------------------+---------------------------------+\n",
            "\n"
          ]
        }
      ],
      "source": [
        "# CodeGrade Tag Ex4\n",
        "### For each season of the show \"Young Sheldon\" find the countries where it spent\n",
        "### the most time in the Top 10\n",
        "countriesDF = tvDF.where(\"show_title == 'Young Sheldon'\")\\\n",
        "              .groupBy('season_title', 'country_name')\\\n",
        "              .agg(F.max('cumulative_weeks_in_top_10').alias('max_weeks'))\\\n",
        "              .orderBy('max_weeks', ascending=False)\n",
        "\n",
        "from pyspark.sql.window import Window\n",
        "\n",
        "windowSpec = Window.partitionBy('season_title').orderBy(F.col('max_weeks').desc())\n",
        "\n",
        "top_countries = countriesDF.withColumn('rank', F.rank().over(windowSpec))\\\n",
        "    .filter(F.col('rank') == 1)\\\n",
        "    .select('season_title', 'country_name', 'max_weeks')\n",
        "\n",
        "result = top_countries.groupBy('season_title')\\\n",
        "    .agg(F.collect_list('country_name').alias('countries'))\n",
        "\n",
        "result = result.withColumn('country', F.concat('countries')).drop('countries')\n",
        "\n",
        "result.show(truncate=False)"
      ]
    },
    {
      "cell_type": "markdown",
      "metadata": {
        "id": "aOi5jbLgTupk"
      },
      "source": [
        "# Exercise 5\n",
        "\n",
        "For each country, find the film that spent the most time in the Top 10."
      ]
    },
    {
      "cell_type": "code",
      "execution_count": null,
      "metadata": {
        "id": "hYz243A8kkNG",
        "colab": {
          "base_uri": "https://localhost:8080/"
        },
        "outputId": "f0b237a2-487b-4ce0-eca2-d2d962549437"
      },
      "outputs": [
        {
          "output_type": "stream",
          "name": "stdout",
          "text": [
            "+------------------+--------------------+\n",
            "|      country_name|          show_title|\n",
            "+------------------+--------------------+\n",
            "|         Argentina|  Sonic the Hedgehog|\n",
            "|         Australia| Back to the Outback|\n",
            "|           Austria|Harry Potter and ...|\n",
            "|           Bahamas|  A Madea Homecoming|\n",
            "|           Bahrain|          Red Notice|\n",
            "|        Bangladesh|        Sooryavanshi|\n",
            "|           Belgium|    The Adam Project|\n",
            "|           Bolivia|               Shrek|\n",
            "|            Brazil|Hotel Transylvani...|\n",
            "|          Bulgaria|          Red Notice|\n",
            "|            Canada|How the Grinch St...|\n",
            "|             Chile|  Sonic the Hedgehog|\n",
            "|          Colombia|          Red Notice|\n",
            "|        Costa Rica|  Sonic the Hedgehog|\n",
            "|           Croatia|          Red Notice|\n",
            "|            Cyprus|          Red Notice|\n",
            "|    Czech Republic|The Secret Life o...|\n",
            "|           Denmark|          Red Notice|\n",
            "|Dominican Republic|          Red Notice|\n",
            "|           Ecuador|          Red Notice|\n",
            "+------------------+--------------------+\n",
            "only showing top 20 rows\n",
            "\n"
          ]
        }
      ],
      "source": [
        "# CodeGrade Tag Ex5\n",
        "### For each country, find the film that spent the most time in the Top 10\n",
        "### Display the results in a Dataframe ordered by country name.\n",
        "films_maxweek_DF = filmsDF.groupBy('country_name', 'show_title').agg(F.max('cumulative_weeks_in_top_10').alias('max_weeks')).orderBy('max_weeks', ascending=False)\n",
        "\n",
        "from pyspark.sql.window import Window\n",
        "\n",
        "windowSpec = Window.partitionBy('country_name').orderBy(F.col('max_weeks').desc())\n",
        "\n",
        "top_films_per_country = (\n",
        "    films_maxweek_DF\n",
        "    .withColumn('row_number', F.row_number().over(windowSpec))\n",
        "    .filter(F.col('row_number') == 1)\n",
        "    .orderBy('country_name')\n",
        "    .select('country_name', 'show_title')\n",
        ")\n",
        "\n",
        "top_films_per_country.show()"
      ]
    },
    {
      "cell_type": "markdown",
      "metadata": {
        "id": "_YOKr4khadrB"
      },
      "source": [
        "# Exercise 6\n",
        "\n",
        "Calculate the number of weeks each film spent at the number 1 spot of each country's Top 10 list. Then find the films that spent the most time in the number 1 spot for each country."
      ]
    },
    {
      "cell_type": "code",
      "execution_count": null,
      "metadata": {
        "id": "T4KuEbwgbJar",
        "colab": {
          "base_uri": "https://localhost:8080/"
        },
        "outputId": "0096fc73-9087-4901-91f9-6dd94977fb24"
      },
      "outputs": [
        {
          "output_type": "stream",
          "name": "stdout",
          "text": [
            "+------------+--------------------+----------+\n",
            "|country_name|          show_title|weeks_at_1|\n",
            "+------------+--------------------+----------+\n",
            "|   Argentina|        The Gray Man|         1|\n",
            "|   Argentina|           The Vault|         1|\n",
            "|   Argentina|     Army of Thieves|         2|\n",
            "|   Argentina|       Blood Red Sky|         2|\n",
            "|   Argentina|          Sweet Girl|         1|\n",
            "|   Argentina|    The Adam Project|         2|\n",
            "|   Argentina|   Through My Window|         1|\n",
            "|   Argentina|      Look Both Ways|         1|\n",
            "|   Argentina|       Penguin Bloom|         1|\n",
            "|   Argentina|          The Guilty|         2|\n",
            "|   Argentina|Bank Robbers: The...|         1|\n",
            "|   Argentina|The Man from Toronto|         2|\n",
            "|   Argentina|          Grand Isle|         1|\n",
            "|   Argentina|         Interceptor|         1|\n",
            "|   Argentina|              Hustle|         1|\n",
            "|   Argentina|             Bruised|         1|\n",
            "|   Argentina|              Fatale|         2|\n",
            "|   Argentina|       Purple Hearts|         1|\n",
            "|   Argentina| The Tinder Swindler|         2|\n",
            "|   Argentina|               Venom|         1|\n",
            "+------------+--------------------+----------+\n",
            "only showing top 20 rows\n",
            "\n"
          ]
        }
      ],
      "source": [
        "# CodeGrade Tag Ex6a\n",
        "\n",
        "### Create a column using the F.when function to calculate the number of weeks a\n",
        "### films spens in the number 1 spot of the Top 10. Use the .otherwise method to\n",
        "### set rows with no number 1 spots to zero. Use the .alias metod to call this\n",
        "### column \"weeks_at_1\"\n",
        "# films_no1 = filmsDF.select('country_name', 'week', 'show_title').where(\"weekly_rank == 1\")\n",
        "# films_no1.groupBy('country_name', 'show_title').agg(F.countDistinct('week').alias('weeks_at_1')).orderBy('country_name').show()\n",
        "\n",
        "films_no1 = filmsDF.select('country_name', 'week', 'weekly_rank', 'show_title').where(\"weekly_rank == 1\")\n",
        "films_no1.groupBy('country_name', 'show_title')\\\n",
        "          .agg(F.count(F.when(F.col('weekly_rank') == 1, 1).otherwise(0)).alias('weeks_at_1'))\\\n",
        "          .orderBy('country_name').show()\n"
      ]
    },
    {
      "cell_type": "code",
      "execution_count": null,
      "metadata": {
        "id": "3bmaFJryC5ub",
        "colab": {
          "base_uri": "https://localhost:8080/"
        },
        "outputId": "e932e729-3853-4e45-8fae-3e0fd8d03caf"
      },
      "outputs": [
        {
          "output_type": "stream",
          "name": "stdout",
          "text": [
            "+------------+---------------------------+----------------+\n",
            "|country_name|show_title                 |total_weeks_at_1|\n",
            "+------------+---------------------------+----------------+\n",
            "|Australia   |Bloodshot                  |1               |\n",
            "|Australia   |Traffik                    |0               |\n",
            "|Australia   |Godzilla vs. Kong          |0               |\n",
            "|Bahamas     |The Healer                 |0               |\n",
            "|Bahamas     |The Hurt Locker            |0               |\n",
            "|Bahrain     |Spiderhead                 |0               |\n",
            "|Bahrain     |Against The Ice            |0               |\n",
            "|Bahrain     |The Privilege              |0               |\n",
            "|Belgium     |Heart Parade               |0               |\n",
            "|Bolivia     |Men in Black: International|0               |\n",
            "|Bolivia     |Retfærdighedens ryttere    |0               |\n",
            "|Bolivia     |World War Z                |0               |\n",
            "|Bulgaria    |G.I. Joe: The Rise of Cobra|0               |\n",
            "|Canada      |Indecent Proposal          |0               |\n",
            "|Chile       |Bohemian Rhapsody          |0               |\n",
            "|Chile       |Brazen                     |0               |\n",
            "|Chile       |Troy                       |0               |\n",
            "|Chile       |Nightbooks                 |0               |\n",
            "|Colombia    |Lulli                      |0               |\n",
            "|Colombia    |Intrusion                  |0               |\n",
            "+------------+---------------------------+----------------+\n",
            "only showing top 20 rows\n",
            "\n"
          ]
        }
      ],
      "source": [
        "# CodeGrade Tag Ex6b\n",
        "\n",
        "### Group by country name and sow title, and use the .agg method and your new\n",
        "### column to find the number of weeks each film spent in the top spot for each\n",
        "### country.\n",
        "result = filmsDF.withColumn('weeks1_col', weeks1_col).groupBy('show_title', 'country_name').agg(F.sum('weeks1_col').alias('total_weeks_at_1'))\n",
        "result.show(truncate=False)"
      ]
    },
    {
      "cell_type": "code",
      "source": [
        "# CodeGrade Tag Ex6c\n",
        "\n",
        "### Produce a dataframe grouped by country name that contains the show title and\n",
        "### number of weeks at the number 1 spot of the top performing film in each\n",
        "### country.\n",
        "windowSpec = Window.partitionBy(\"country_name\").orderBy(F.desc(\"total_weeks_at_1\"))\n",
        "\n",
        "top_performing = (\n",
        "    result\n",
        "    .withColumn(\"rank\", F.rank().over(windowSpec))\n",
        "    .filter(F.col(\"rank\") == 1)\n",
        "    .select(\"country_name\", \"show_title\", \"total_weeks_at_1\")\n",
        ")\n",
        "\n",
        "top_performing.show()\n"
      ],
      "metadata": {
        "id": "9apP6VYfTBU-",
        "colab": {
          "base_uri": "https://localhost:8080/"
        },
        "outputId": "28626653-c9b0-439b-a3a3-ebc8cb9e1bfa"
      },
      "execution_count": null,
      "outputs": [
        {
          "output_type": "stream",
          "name": "stdout",
          "text": [
            "+------------+--------------------+----------------+\n",
            "|country_name|          show_title|total_weeks_at_1|\n",
            "+------------+--------------------+----------------+\n",
            "|   Argentina|       Don't Look Up|               6|\n",
            "|   Australia|    The Adam Project|               6|\n",
            "|     Austria| The Tinder Swindler|              10|\n",
            "|     Bahamas|              Fatale|               3|\n",
            "|     Bahamas|             Bruised|               3|\n",
            "|     Bahamas|        The Gray Man|               3|\n",
            "|     Bahamas|           Day Shift|               3|\n",
            "|     Bahamas|  A Madea Homecoming|               3|\n",
            "|     Bahamas|         Senior Year|               3|\n",
            "|     Bahamas|      Resort to Love|               3|\n",
            "|     Bahamas|       The Sea Beast|               3|\n",
            "|     Bahamas|          Sweet Girl|               3|\n",
            "|     Bahamas|          Red Notice|               3|\n",
            "|     Bahamas|The Man from Toronto|               3|\n",
            "|     Bahamas|              Hustle|               3|\n",
            "|     Bahrain|          The Guilty|               6|\n",
            "|     Bahrain| Gangubai Kathiawadi|               6|\n",
            "|     Bahrain|       Don't Look Up|               6|\n",
            "|     Bahrain|          Red Notice|               6|\n",
            "|     Bahrain| The Tinder Swindler|               6|\n",
            "+------------+--------------------+----------------+\n",
            "only showing top 20 rows\n",
            "\n"
          ]
        }
      ]
    }
  ],
  "metadata": {
    "colab": {
      "provenance": [],
      "include_colab_link": true
    },
    "kernelspec": {
      "display_name": "Python 3",
      "name": "python3"
    },
    "language_info": {
      "name": "python"
    }
  },
  "nbformat": 4,
  "nbformat_minor": 0
}